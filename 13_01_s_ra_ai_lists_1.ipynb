{
  "cells": [
    {
      "cell_type": "markdown",
      "metadata": {
        "id": "view-in-github",
        "colab_type": "text"
      },
      "source": [
        "<a href=\"https://colab.research.google.com/github/moksliukai/python/blob/main/13_01_s_ra_ai_lists_1.ipynb\" target=\"_parent\"><img src=\"https://colab.research.google.com/assets/colab-badge.svg\" alt=\"Open In Colab\"/></a>"
      ]
    },
    {
      "cell_type": "markdown",
      "metadata": {
        "id": "nGJ_MXYO7-aP"
      },
      "source": [
        "[![Open In Colab](https://colab.research.google.com/assets/colab-badge.svg)](https://colab.research.google.com/github/blaztoma/pitono-pamokos/blob/main/pamokos/13%20-%20Sarasai/13-01%20-%20S%C4%85ra%C5%A1ai%20lists%201.ipynb)"
      ]
    },
    {
      "cell_type": "markdown",
      "metadata": {
        "id": "lQYbM2xv7-aP"
      },
      "source": [
        "# Sąrašai (`lists`) (1 dalis)"
      ]
    },
    {
      "cell_type": "markdown",
      "metadata": {
        "id": "PbmsPaTi7-aQ"
      },
      "source": [
        "## Apie sąrašus\n",
        "\n",
        "Sąrašus galima įsivaizduoti kaip duomenų rinkinį. Galimi pavyzdžiai būtų tokie:\n",
        "\n",
        "- studentų pažymiai;\n",
        "- žodžiai;\n",
        "- prekės;\n",
        "- studentai;\n",
        "- automobiliai;\n",
        "- ..."
      ]
    },
    {
      "cell_type": "markdown",
      "metadata": {
        "id": "Y9HVKfML7-aQ"
      },
      "source": [
        "## Sąrašo kūrimas\n",
        "\n",
        "Tuščias sąrašas (be duomenų):\n",
        "\n",
        "```\n",
        "saraso_pavadinimas = []\n",
        "```\n",
        "\n",
        "Pavyzdžiui:"
      ]
    },
    {
      "cell_type": "code",
      "execution_count": null,
      "metadata": {
        "id": "Z-toHTif7-aQ"
      },
      "outputs": [],
      "source": [
        "informacija = []"
      ]
    },
    {
      "cell_type": "markdown",
      "metadata": {
        "id": "bvtxi1tb7-aR"
      },
      "source": [
        "\n",
        "Sąrašas su duomenimis:\n",
        "\n",
        "```\n",
        "saraso_pavadinimas = [reikšmė, reikšmė, reikšmė, ...]\n",
        "```\n",
        "\n",
        "Pavyzdžiui:"
      ]
    },
    {
      "cell_type": "code",
      "execution_count": null,
      "metadata": {
        "id": "E1ol_tur7-aR"
      },
      "outputs": [],
      "source": [
        "skaiciai = [7, 4, 5, 8, 3, 1]"
      ]
    },
    {
      "cell_type": "code",
      "execution_count": null,
      "metadata": {
        "id": "ylthhc-X7-aR"
      },
      "outputs": [],
      "source": [
        "zmones = ['Jonas', 'Petras', 'Ona', 'Birutė']"
      ]
    },
    {
      "cell_type": "markdown",
      "metadata": {
        "id": "Smuc3_T27-aS"
      },
      "source": [
        "## Viso sąrašo atvaizdavimas\n",
        "\n",
        "Jeigu norime atvaizduoti viso sąrašo informaciją, tai galime padaryti taip:"
      ]
    },
    {
      "cell_type": "code",
      "execution_count": null,
      "metadata": {
        "id": "6zC3zhgT7-aS"
      },
      "outputs": [],
      "source": [
        "skaiciai = [7, 5, 6, 9, 7, 5]\n",
        "print(skaiciai)"
      ]
    },
    {
      "cell_type": "code",
      "execution_count": null,
      "metadata": {
        "id": "h2N78i8j7-aS"
      },
      "outputs": [],
      "source": [
        "zmones = ['Ona', 'Petras', 'Birutė', 'Jonas']\n",
        "print(zmones)"
      ]
    },
    {
      "cell_type": "markdown",
      "metadata": {
        "id": "8-Cp7iYn7-aS"
      },
      "source": [
        "## Sąrašo papildymas\n",
        "\n",
        "Jeigu norima papildyti jau egzistuojantį sąrašą, tam galima naudoti `append()` arba `extend()` metodus.\n",
        "\n",
        "Pavyzdžiui:"
      ]
    },
    {
      "cell_type": "code",
      "execution_count": null,
      "metadata": {
        "id": "XdihLZr_7-aS"
      },
      "outputs": [],
      "source": [
        "skaiciai = [1, 2, 3, 4]\n",
        "\n",
        "skaiciai.append(5)\n",
        "skaiciai.append(6)\n",
        "print(skaiciai)\n",
        "\n",
        "skaiciai.extend([7, 8, 9])\n",
        "print(skaiciai)"
      ]
    },
    {
      "cell_type": "markdown",
      "metadata": {
        "id": "Ps1odH0X7-aT"
      },
      "source": [
        "## Sąrašo elementų kiekis\n",
        "\n",
        "Norėdami išsiaiškinti kiek sąraše yra elementų, mes galima naudoti `len()` funkciją:\n",
        "\n",
        "```\n",
        "len(saraso_pavadinimas)\n",
        "```\n",
        "\n",
        "Pavyzdžiui:"
      ]
    },
    {
      "cell_type": "code",
      "execution_count": null,
      "metadata": {
        "id": "rh1lmGSB7-aT"
      },
      "outputs": [],
      "source": [
        "skaiciai = [5, 2, 3, 5, 4]\n",
        "print( len(skaiciai) )"
      ]
    },
    {
      "cell_type": "markdown",
      "metadata": {
        "id": "KP96Bhbi7-aT"
      },
      "source": [
        "## Indeksavimas\n",
        "\n",
        "Jeigu sąraše yra duomenų, tai kiekvienas elementas tame sąraše turi savo indeksą. Šio indekso pagalba galima tą informaciją pasiekti arba pakeisti.\n",
        "\n",
        "Indeksai yra skaičiuojami pradedant nuo 0.\n",
        "\n",
        "Tarkime, turime tokį sąrašą:\n",
        "\n",
        "```\n",
        "pazymiai = [7, 8, 5, 9, 10, 6]\n",
        "```\n",
        "\n",
        "Kiekvienas sąrašo elementas įgaus tokius indeksus:\n",
        "\n",
        "| Elementas iš sąrašo | 7 | 8 | 5 | 9 | 10 | 6 |\n",
        "|-|-|-|-|-|-|-|\n",
        "| Priskirtas indeksas | 0 | 1 | 2 | 3 | 4 | 5 |\n",
        "\n",
        "Jeigu turime tokį sąrašą:\n",
        "\n",
        "```\n",
        "medziai = ['Gluosnis', 'Ąžuolas', 'Liepa', 'Berželis', 'Obelis']\n",
        "```\n",
        "\n",
        "Kiekvienas sąrašo elementas įgaus tokius indeksus:\n",
        "\n",
        "| Elementas iš sąrašo | 'Gluosnis' | 'Ąžuolas' | 'Liepa' | 'Berželis' | 'Obelis' |\n",
        "|-|-|-|-|-|-|\n",
        "| Priskirtas indeksas | 0 | 1 | 2 | 3 | 4 |\n",
        "\n",
        "Pitonas taip pat leidžia indeksavimą taikyti nuo galo. Šiuo atveju numeracija pradedama nuo -1, pavyzdžiui:\n",
        "\n",
        "| Elementas iš sąrašo | 'Gluosnis' | 'Ąžuolas' | 'Liepa' | 'Berželis' | 'Obelis' |\n",
        "|-|-|-|-|-|-|\n",
        "| Priskirtas indeksas (nuo galo) | -5 | -4 | -3 | -2 | -1 |"
      ]
    },
    {
      "cell_type": "markdown",
      "metadata": {
        "id": "dIkaB3F77-aT"
      },
      "source": [
        "### Indekso naudojimo sintaksė\n",
        "\n",
        "Norint gauti informaciją:\n",
        "\n",
        "```\n",
        "saraso_pavadinimas[indeksas]\n",
        "```\n",
        "\n",
        "Norint atnaujinti informaciją:\n",
        "\n",
        "```\n",
        "saraso_pavadinimas[indeksas] = nauja_reiksme\n",
        "```"
      ]
    },
    {
      "cell_type": "markdown",
      "metadata": {
        "id": "-oqZ5KAl7-aT"
      },
      "source": [
        "### Užduotis: koks indeksas arba reikšmė?\n",
        "\n",
        "| Reikšmė | 5 | 8 | 9 | 3 | -1 | 7 | -2 | 4 |\n",
        "|-|-|-|-|-|-|-|-|-|\n",
        "| Indesas | 0 | 1 | 2 | 3 | 4 | 5 | 6 | 7 |\n",
        "\n",
        "- skaiciai[???] = 5\n",
        "- skaiciai[3] = ???\n",
        "- skaiciai[6] = ???\n",
        "- skaiciai[???] = 8\n",
        "- skaiciai[???] = 7\n",
        "- skaiciai[4] = ???\n",
        "- skaiciai[???] = 9\n",
        "- skaiciai[???] = 4"
      ]
    },
    {
      "cell_type": "markdown",
      "metadata": {
        "id": "4gTpXAf-7-aT"
      },
      "source": [
        "## Pavyzdžiai"
      ]
    },
    {
      "cell_type": "markdown",
      "metadata": {
        "id": "qJ-nmbin7-aT"
      },
      "source": [
        "Pasižiūrėkime, kaip pateikiami įvairių tipų sąrašai."
      ]
    },
    {
      "cell_type": "code",
      "execution_count": null,
      "metadata": {
        "id": "gsTCX6Es7-aT"
      },
      "outputs": [],
      "source": [
        "list = [1, 2, 3, 4, 5, 6]\n",
        "list_2 = ['a', 'b', 'c']\n",
        "list_3 = [1, 2, 'a', True]\n",
        "\n",
        "print(list)\n",
        "print(list_2)\n",
        "print(list_3)"
      ]
    },
    {
      "cell_type": "markdown",
      "metadata": {
        "id": "-7l8GdlR7-aU"
      },
      "source": [
        "Pasižiūrėkite į programą ir mintyse įvardinkite išvedamas reikšmės. Paleiskite programą ir pasitikrinkite."
      ]
    },
    {
      "cell_type": "code",
      "execution_count": null,
      "metadata": {
        "id": "O5C2i0br7-aU"
      },
      "outputs": [],
      "source": [
        "skaiciai = [78, 65, 95, 21, 23, 14, 74, 147]\n",
        "\n",
        "print(skaiciai[0])\n",
        "print(skaiciai[2])\n",
        "print(skaiciai[4])\n",
        "print(skaiciai[5])"
      ]
    },
    {
      "cell_type": "markdown",
      "metadata": {
        "id": "3R8rAvNP7-aU"
      },
      "source": [
        "Čia parodytos įvairios manipuliacijos indeksais."
      ]
    },
    {
      "cell_type": "code",
      "execution_count": null,
      "metadata": {
        "id": "NLPogZ307-aU"
      },
      "outputs": [],
      "source": [
        "skaiciai = [47, 54, 25, 36, 87]\n",
        "\n",
        "print('Sąrašas:', skaiciai)\n",
        "print('Pirmas sąrašo skaičius:', skaiciai[0])\n",
        "print('Narių kiekis sąraše:', len(skaiciai))\n",
        "print('Paskutinis sąrašo skaičius:', skaiciai[-1])\n",
        "print('Paskutinis sąrašo skaičius:', skaiciai[len(skaiciai) - 1])"
      ]
    },
    {
      "cell_type": "markdown",
      "metadata": {
        "id": "glYqo9807-aU"
      },
      "source": [
        "Pažiūrėkite, kaip galime papildyti sąrašus."
      ]
    },
    {
      "cell_type": "code",
      "execution_count": null,
      "metadata": {
        "id": "KWhuA4IJ7-aU"
      },
      "outputs": [],
      "source": [
        "skaiciai = []\n",
        "\n",
        "print(skaiciai)\n",
        "\n",
        "# sąrašo papildymas nurodyta reikšme, pridedama į galą\n",
        "skaiciai.append(87)\n",
        "skaiciai.append(95)\n",
        "\n",
        "print(skaiciai)\n",
        "\n",
        "# sąrašo papildymas keliomis nurodytomis reikšmėmis, pridedama į galą\n",
        "skaiciai.extend([147, 258, 399])\n",
        "\n",
        "print(skaiciai)"
      ]
    },
    {
      "cell_type": "markdown",
      "metadata": {
        "id": "gI_66c777-aU"
      },
      "source": [
        "Paprastas sąrašo elementų vidurkio skaičiavimas. Pagalvokite, kaip tai galima padaryti ciklo pagalba."
      ]
    },
    {
      "cell_type": "code",
      "execution_count": null,
      "metadata": {
        "id": "JKrUvAGC7-aU"
      },
      "outputs": [],
      "source": [
        "pazymiai = [8, 7, 9, 9, 8]\n",
        "\n",
        "print('Studento pažymiai:', pazymiai)\n",
        "\n",
        "suma = pazymiai[0] + pazymiai[1] + pazymiai[2] + pazymiai[3] + pazymiai[4]\n",
        "vidurkis = suma / len(pazymiai)\n",
        "\n",
        "print('Gauta suma:', suma)\n",
        "print('Pažymių vidurkis:', vidurkis)"
      ]
    },
    {
      "cell_type": "markdown",
      "metadata": {
        "id": "UvHwKObu7-aU"
      },
      "source": [
        "Sąrašo elementų pakeitimo pavyzdys."
      ]
    },
    {
      "cell_type": "code",
      "execution_count": null,
      "metadata": {
        "id": "do4Laiap7-aU"
      },
      "outputs": [],
      "source": [
        "vardai = ['Agnė', 'Tomas', 'Gintarė', 'Petras']\n",
        "\n",
        "print(vardai)\n",
        "\n",
        "vardai[0] = 'Paulina'\n",
        "vardai[3] = 'Justas'\n",
        "\n",
        "print(vardai)"
      ]
    },
    {
      "cell_type": "markdown",
      "metadata": {
        "id": "fkaU_K1V7-aU"
      },
      "source": [
        "Pavyzdžiuose esančias operacijas galime atlikti ne tik su skaičiais, bet ir su eilutėmis ir kitais elementais."
      ]
    },
    {
      "cell_type": "code",
      "execution_count": null,
      "metadata": {
        "id": "acpTAVvm7-aV"
      },
      "outputs": [],
      "source": [
        "failai = [\n",
        "    'naujienos/pirma.txt',\n",
        "    'naujienos/antra.txt',\n",
        "    'naujienos/trecia.txt',\n",
        "    'naujienos/ketvirta.txt',\n",
        "    'naujienos/penkta.txt'\n",
        "]\n",
        "\n",
        "print('Naujienų failai:', failai)\n",
        "print('Naujienų kiekis:', len(failai))\n",
        "print()\n",
        "\n",
        "dar_viena = 'naujienos/sesta.txt'\n",
        "failai.append(dar_viena)\n",
        "\n",
        "print('Papildomai pridėta naujiena:', dar_viena)\n",
        "print('Naujienų failai:', failai)\n",
        "print('Naujienų kiekis:', len(failai))"
      ]
    },
    {
      "cell_type": "markdown",
      "metadata": {
        "id": "TnBGp1zG7-aV"
      },
      "source": [
        "Kai naudojam `range()`, tai gauname `range` objektą. Norėdami gauti skaičių eilutę, turime `range` objektą paversti į sąrašą."
      ]
    },
    {
      "cell_type": "code",
      "execution_count": null,
      "metadata": {
        "id": "x2qXndsG7-aV"
      },
      "outputs": [],
      "source": [
        "print(range(1, 100))\n",
        "print(list(range(1, 100)))"
      ]
    },
    {
      "cell_type": "markdown",
      "metadata": {
        "id": "3FPXyog87-aV"
      },
      "source": [
        "Čia parodytas sąrašo formavimas iš atsitiktinių skaičių."
      ]
    },
    {
      "cell_type": "code",
      "execution_count": null,
      "metadata": {
        "id": "5WY9wxJ37-aV"
      },
      "outputs": [],
      "source": [
        "from random import randint\n",
        "\n",
        "skaiciai = []\n",
        "print(skaiciai)\n",
        "\n",
        "naujas_sk = randint(1, 10)\n",
        "naujas_sk2 = randint(1, 15)\n",
        "\n",
        "skaiciai.append(naujas_sk)\n",
        "skaiciai.append(naujas_sk2)\n",
        "\n",
        "print(skaiciai)"
      ]
    },
    {
      "cell_type": "markdown",
      "metadata": {
        "id": "Uep9wV-v7-aV"
      },
      "source": [
        "Sąrašo išplėtimas keliom atsitiktinėm reikšmėm."
      ]
    },
    {
      "cell_type": "code",
      "execution_count": null,
      "metadata": {
        "id": "X8oIT6gO7-aV"
      },
      "outputs": [],
      "source": [
        "# Ši eilutė bus veiksni jeigu būsite įvykdę ankstesnį langelį.\n",
        "# from random import randint\n",
        "\n",
        "skaiciai = []\n",
        "print(skaiciai)\n",
        "\n",
        "skaiciai.extend([ randint(1, 10), randint(1, 10), randint(1, 10) ])\n",
        "print(skaiciai)"
      ]
    },
    {
      "cell_type": "markdown",
      "metadata": {
        "id": "v-Wu59rK7-aY"
      },
      "source": [
        "## Užduotys"
      ]
    },
    {
      "cell_type": "markdown",
      "metadata": {
        "id": "kx9XfvuW7-aZ"
      },
      "source": [
        "### Užduotis 1\n",
        "\n",
        "Sukurkite sąrašą vardams saugoti ir užpildykite jį informacija. Atspausdinkite šį sąrašą, kiekvieną vardą spausdindami atskiroje eilutėje."
      ]
    },
    {
      "cell_type": "code",
      "execution_count": null,
      "metadata": {
        "id": "-deAo6bZ7-aZ"
      },
      "outputs": [],
      "source": [
        "# Kodą rašykite čia..."
      ]
    },
    {
      "cell_type": "markdown",
      "metadata": {
        "id": "yYxDRbGb7-aZ"
      },
      "source": [
        "### Užduotis 2\n",
        "\n",
        "Sukurkite sąrašą, kuriame būtų prekių pavadinimai (pvz.: obuoliai, kriaušės, morkos, svogūnai, ...). Atspausdinkite šį sąrašą. Pakeiskite trijų pasirinktų narių reikšmes į kitas. Atspausdinkite pakeisto sąrašo informaciją."
      ]
    },
    {
      "cell_type": "code",
      "execution_count": null,
      "metadata": {
        "id": "QSXVq0Pr7-aZ"
      },
      "outputs": [],
      "source": [
        "# Kodą rašykite čia..."
      ]
    },
    {
      "cell_type": "markdown",
      "metadata": {
        "id": "1I9AbL1U7-aZ"
      },
      "source": [
        "### Užduotis 3\n",
        "\n",
        "Sukurkite sąrašą žmonių ūgiams saugoti ir užpildykite jį. Atpsausdinkite šio sąrašo kiekį ir duomenis."
      ]
    },
    {
      "cell_type": "code",
      "execution_count": null,
      "metadata": {
        "id": "G2qFl0rq7-aZ"
      },
      "outputs": [],
      "source": [
        "# Kodą rašykite čia..."
      ]
    },
    {
      "cell_type": "markdown",
      "metadata": {
        "id": "rSIcNh6d7-aZ"
      },
      "source": [
        "### Užduotis 4\n",
        "\n",
        "Sukurkite sąrašą, kuriame būtų saugomas miestų pavadinimai. Į šį sąrašą įdėkite kelis miestus. Sąrašą atspausdinkite. Taip pat, atspausdinkite miestų kiekį. Šį sąrašą papildykite naudojant `append` ir/arba `extend` metodą. Dar kartą atspausdinkite miestus ir jų kiekį.\n",
        "\n",
        "*Papildomai:*\n",
        "\n",
        "Sugalvokite kaip galėtumėte vartotojui parodyti kiek naujų miestų buvo įrašyta į sąrašą. Pvz.: jeigu sąraše buvo Kaunas ir Vilnius, o naudojant `append` / `extend` buvo pridėta dar Klaipėda, Šiauliai ir Biržai, tai atspausdinkite, kad buvo pridėti 3 nauji miestai. Pasinaudokite `len` funkcija."
      ]
    },
    {
      "cell_type": "code",
      "execution_count": null,
      "metadata": {
        "id": "zA9fGlay7-aZ"
      },
      "outputs": [],
      "source": [
        "# Kodą rašykite čia..."
      ]
    },
    {
      "cell_type": "markdown",
      "metadata": {
        "id": "E2LxPGCf7-aZ"
      },
      "source": [
        "### Užduotis 5\n",
        "\n",
        "Sukurkite sąrašą pažymiams saugoti. Sukurkite programą, kuri leistų naudotojui įvesti norimą kiekį naujų duomenų. Atspausdinkite visus pažymius ir jų kiekį."
      ]
    },
    {
      "cell_type": "code",
      "execution_count": null,
      "metadata": {
        "id": "Ml4yz_3A7-aZ"
      },
      "outputs": [],
      "source": [
        "# Kodą rašykite čia..."
      ]
    },
    {
      "cell_type": "markdown",
      "metadata": {
        "id": "w3cbYDmx7-aa"
      },
      "source": [
        "### Užduotis 6\n",
        "\n",
        "Sukurkite tuščią sąrašą. Užpildykite šį sąrašą keliais atsitiktinais skaičiais. Atspausdinkite šį sąrašą. Raskite skaičių sumą ir vidurkį."
      ]
    },
    {
      "cell_type": "code",
      "execution_count": null,
      "metadata": {
        "id": "Kew5C_IC7-aa"
      },
      "outputs": [],
      "source": [
        "# Kodą rašykite čia..."
      ]
    },
    {
      "cell_type": "markdown",
      "metadata": {
        "id": "NJtHPBo97-aa"
      },
      "source": [
        "### Užduotis 7\n",
        "\n",
        "Sukurkite du sąrašus, skirtus saugoti dviejų studentų pažymiams. Įveskite po 3-5 pažymius kiekvienam studentui. Suskaičiuokite ir atspausdinkite jų vidurkius. Išsiaiškinkite, kurio studento vidurkis didesnis ir kiek. Atspausdinkite rezultatą."
      ]
    },
    {
      "cell_type": "code",
      "execution_count": null,
      "metadata": {
        "id": "K1DYLGUV7-aa"
      },
      "outputs": [],
      "source": [
        "# Kodą rašykite čia..."
      ]
    }
  ],
  "metadata": {
    "kernelspec": {
      "display_name": "Python 3",
      "language": "python",
      "name": "python3"
    },
    "language_info": {
      "codemirror_mode": {
        "name": "ipython",
        "version": 3
      },
      "file_extension": ".py",
      "mimetype": "text/x-python",
      "name": "python",
      "nbconvert_exporter": "python",
      "pygments_lexer": "ipython3",
      "version": "3.7.9 (tags/v3.7.9:13c94747c7, Aug 17 2020, 18:58:18) [MSC v.1900 64 bit (AMD64)]"
    },
    "orig_nbformat": 4,
    "vscode": {
      "interpreter": {
        "hash": "aa11ca274996316222ef16f35c5f6dbeb467b694c0b2154cdf34dcf9271d5fd0"
      }
    },
    "colab": {
      "provenance": [],
      "include_colab_link": true
    }
  },
  "nbformat": 4,
  "nbformat_minor": 0
}