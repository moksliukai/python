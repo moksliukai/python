{
  "cells": [
    {
      "cell_type": "markdown",
      "metadata": {
        "id": "7Me_t0mYgY6O"
      },
      "source": [
        "[![Open In Colab](https://colab.research.google.com/assets/colab-badge.svg)](https://colab.research.google.com/github/blaztoma/pitono-pamokos/blob/main/pamokos/17%20-%20Rinkiniai%20-%20Sets/17%20-%20Rinkiniai%20-%20Sets.ipynb)"
      ]
    },
    {
      "cell_type": "markdown",
      "metadata": {
        "id": "PbsOxrAQgY6T"
      },
      "source": [
        "# Rinkiniai (`Sets`)"
      ]
    },
    {
      "cell_type": "markdown",
      "metadata": {
        "id": "fOLazExVgY6U"
      },
      "source": [
        "## Apie rinkinius\n",
        "\n",
        "- Rinkiniai irgi skirti duomenų sugrupavimui, tačiau su rinkiniu galima turėti tik nesidubliuojančias reikšmes (tik unikalius duomenis).\n",
        "- Rinkiniuose duomenis galima keisti.\n",
        "- Tai yra tarpinis variantas tarp sąrašo ir žodyno (galima susidėti duomenis kaip į sąrašą, tačiau duomenys nėra rikiuojami kaip sąraše, nes yra be rikiavimo eiliškumo kaip žodyne).\n",
        "- Naudingiausia kai reikia turėti rinkinį su unikaliomis reikšmėmis, tačiau nerūpi duomenų eiliškumas, ar raktų-reikšmių poros."
      ]
    },
    {
      "cell_type": "markdown",
      "metadata": {
        "id": "2KceP7Q3gY6V"
      },
      "source": [
        "## Sintaksė\n",
        "\n",
        "1-as variantas:\n",
        "\n",
        "```\n",
        "rinkinys = {reikšmė, reikšmė, reikšmė}\n",
        "```\n",
        "\n",
        "2-as variantas:\n",
        "\n",
        "```\n",
        "rinkinys = set({reikšmė, reikšmė, reikšmė})\n",
        "```"
      ]
    },
    {
      "cell_type": "markdown",
      "metadata": {
        "id": "sTygrXo5gY6V"
      },
      "source": [
        "## Pavyzdžiai"
      ]
    },
    {
      "cell_type": "code",
      "execution_count": null,
      "metadata": {
        "id": "WdegMOowgY6W"
      },
      "outputs": [],
      "source": [
        "rinkinys = set({1, 2, 3, 4, 4, 5, 5, 5})\n",
        "print(rinkinys)"
      ]
    },
    {
      "cell_type": "code",
      "execution_count": null,
      "metadata": {
        "id": "briB_kTugY6X"
      },
      "outputs": [],
      "source": [
        "pirmas = set({7, 4, 5})\n",
        "antras = {8, 2, 3, 5}\n",
        "\n",
        "print(pirmas)\n",
        "print(antras)"
      ]
    },
    {
      "cell_type": "code",
      "execution_count": null,
      "metadata": {
        "id": "yF7sQ3FZgY6X"
      },
      "outputs": [],
      "source": [
        "unikalus_miestai = {\"Kaunas\", 'Vilnius', 'Klaipėda', 'Kaunas', 'Šiauliai'}\n",
        "\n",
        "print(unikalus_miestai)"
      ]
    },
    {
      "cell_type": "code",
      "execution_count": null,
      "metadata": {
        "id": "dHaTZSY5gY6Y"
      },
      "outputs": [],
      "source": [
        "vardai = {'Petras', 'Ona', 'Gintaras', 'Ugnė'}\n",
        "print('Ona' in vardai)\n",
        "print('Ugnius' in vardai)\n",
        "print(5 in vardai)"
      ]
    },
    {
      "cell_type": "code",
      "execution_count": null,
      "metadata": {
        "id": "Hk-rHhOCgY6Y"
      },
      "outputs": [],
      "source": [
        "rink = {'pirmas', 'antras', 'trečias'}\n",
        "print(rink[0]) # klaida"
      ]
    },
    {
      "cell_type": "code",
      "execution_count": null,
      "metadata": {
        "id": "ZnJKgP2igY6Y"
      },
      "outputs": [],
      "source": [
        "ivairi_info = {7, 'Jonas', 4, 5, 'Petras', 6.87, 2.5, 3}\n",
        "print(ivairi_info)"
      ]
    },
    {
      "cell_type": "code",
      "execution_count": null,
      "metadata": {
        "id": "BlOuSBE4gY6Y"
      },
      "outputs": [],
      "source": [
        "skaiciai = {7, 4, 2, 6}\n",
        "\n",
        "for sk in skaiciai:\n",
        "    print(sk)"
      ]
    },
    {
      "cell_type": "code",
      "execution_count": null,
      "metadata": {
        "id": "JAy40nB1gY6Z"
      },
      "outputs": [],
      "source": [
        "salys = {'Lietuva', 'Latvija', 'Estija', 'Švedija', 'Norvegija'}\n",
        "\n",
        "for salis in salys:\n",
        "    print('-', salis)"
      ]
    },
    {
      "cell_type": "code",
      "execution_count": null,
      "metadata": {
        "id": "sURILM16gY6Z"
      },
      "outputs": [],
      "source": [
        "miestai = ['Kaunas', 'Vilnius', 'Kaunas', 'Klaipėda', 'Panevėžys', 'Šiauliai', 'Vilnius']\n",
        "\n",
        "print('visi miestai:', miestai, '\\n')\n",
        "\n",
        "unikalus_miestai = set(miestai)\n",
        "\n",
        "print('unikalūs miestai:', unikalus_miestai)"
      ]
    },
    {
      "cell_type": "code",
      "execution_count": null,
      "metadata": {
        "id": "Qv8aIEhygY6Z"
      },
      "outputs": [],
      "source": [
        "miestai = ['Kaunas', 'Vilnius', 'Kaunas', 'Klaipėda', 'Panevėžys', 'Šiauliai', 'Vilnius']\n",
        "\n",
        "print('visi miestai:', miestai, '\\n')\n",
        "\n",
        "unikalus_miestai = set(miestai)\n",
        "unikalus_miestai_sarase1 = list(unikalus_miestai)\n",
        "print('sąraše 1:', unikalus_miestai_sarase1, '\\n')\n",
        "\n",
        "unikalus_miestai_sarase2 = list(set(miestai))\n",
        "print('sąraše 2:', unikalus_miestai_sarase2)"
      ]
    },
    {
      "cell_type": "code",
      "execution_count": null,
      "metadata": {
        "id": "RYf_mp1XgY6Z"
      },
      "outputs": [],
      "source": [
        "miestai = ['Kaunas', 'Vilnius', 'Kaunas', 'Klaipėda', 'Pavevėžys', 'Šiauliai', 'Vilnius']\n",
        "\n",
        "print('skirtingų miestų yra:', len(set(miestai)))"
      ]
    },
    {
      "cell_type": "code",
      "execution_count": null,
      "metadata": {
        "id": "8O0PefQ7gY6a"
      },
      "outputs": [],
      "source": [
        "s = set([1, 2, 3])\n",
        "\n",
        "s.add(4)\n",
        "print(s)\n",
        "\n",
        "s.add(4)\n",
        "print(s)"
      ]
    },
    {
      "cell_type": "code",
      "execution_count": null,
      "metadata": {
        "id": "xIYrEcfXgY6a"
      },
      "outputs": [],
      "source": [
        "miestai = {'Kaunas', 'Vilnius', 'Kaunas', 'Klaipėda', 'Pavevėžys', 'Šiauliai', 'Vilnius'}\n",
        "print(miestai, '\\n')\n",
        "\n",
        "miestai.add('Ukmergė')\n",
        "miestai.add('Kaunas')\n",
        "print(miestai)"
      ]
    },
    {
      "cell_type": "code",
      "execution_count": null,
      "metadata": {
        "id": "1g_Jf_kHgY6a"
      },
      "outputs": [],
      "source": [
        "skaiciai = {1, 2, 3, 4, 5, 6}\n",
        "\n",
        "skaiciai.remove(3)\n",
        "print(skaiciai)\n",
        "\n",
        "skaiciai.remove(7) # klaida\n",
        "\n",
        "# jeigu reikia išvengti trynimo klaidų - naudokite .discard()"
      ]
    },
    {
      "cell_type": "code",
      "execution_count": null,
      "metadata": {
        "id": "TjRQupBHgY6a"
      },
      "outputs": [],
      "source": [
        "miestai = {'Kaunas', 'Vilnius', 'Kaunas', 'Klaipėda', 'Pavevėžys', 'Šiauliai', 'Vilnius'}\n",
        "\n",
        "miestai.remove('Pavevėžys')\n",
        "# miestai.remove('Biržai') # klaida\n",
        "\n",
        "print(miestai)\n",
        "\n",
        "miestai.discard('Biržai')\n",
        "miestai.discard('Vilnius')\n",
        "\n",
        "print(miestai)"
      ]
    },
    {
      "cell_type": "code",
      "execution_count": null,
      "metadata": {
        "id": "zNjHZVEggY6a"
      },
      "outputs": [],
      "source": [
        "pirmas = set([1, 2, 3])\n",
        "antras = pirmas.copy()\n",
        "\n",
        "print('pirmas', pirmas)\n",
        "print('antras', antras)\n",
        "print()\n",
        "\n",
        "print(pirmas == antras) # ar sutampa reikšmės\n",
        "print(pirmas is antras) # ar žiūri į tą pačią vietą atmintyje"
      ]
    },
    {
      "cell_type": "code",
      "execution_count": null,
      "metadata": {
        "id": "ig4izPwRgY6a"
      },
      "outputs": [],
      "source": [
        "rinkinys = set([1, 2, 3])\n",
        "rinkinys.clear() # išvalymas\n",
        "print(rinkinys)"
      ]
    },
    {
      "cell_type": "code",
      "execution_count": null,
      "metadata": {
        "id": "3x3stS7rgY6b"
      },
      "outputs": [],
      "source": [
        "matematikos_studentai = {'Ona', 'Petras', 'Giedrius', 'Gintarė'}\n",
        "biologijos_studentai = {'Petras', 'Jonas', 'Ona', 'Povilas', 'Greta'}\n",
        "\n",
        "visi_unikalus_studentai = matematikos_studentai | biologijos_studentai\n",
        "\n",
        "print(visi_unikalus_studentai)"
      ]
    },
    {
      "cell_type": "code",
      "execution_count": null,
      "metadata": {
        "id": "eR16G1QUgY6b"
      },
      "outputs": [],
      "source": [
        "matematikos_studentai = {'Ona', 'Petras', 'Giedrius', 'Gintarė'}\n",
        "biologijos_studentai = {'Petras', 'Jonas', 'Ona', 'Povilas', 'Greta'}\n",
        "\n",
        "studentai_tik_abiejuose = matematikos_studentai & biologijos_studentai\n",
        "\n",
        "print(studentai_tik_abiejuose)"
      ]
    },
    {
      "cell_type": "code",
      "execution_count": null,
      "metadata": {
        "id": "YAaW-Il-gY6b"
      },
      "outputs": [],
      "source": [
        "raides = { raide.upper() for raide in 'labas rytas' }\n",
        "print(raides)"
      ]
    },
    {
      "cell_type": "code",
      "execution_count": null,
      "metadata": {
        "id": "Sdm1mc_xgY6b"
      },
      "outputs": [],
      "source": [
        "skaiciai = { x ** 2 for x in range(10) }\n",
        "print(skaiciai)"
      ]
    },
    {
      "cell_type": "markdown",
      "metadata": {
        "id": "eacE7WkNgY6b"
      },
      "source": [
        "## Užduotys"
      ]
    },
    {
      "cell_type": "markdown",
      "metadata": {
        "id": "JLrNKRK6gY6b"
      },
      "source": [
        "### Užduotis 1\n",
        "\n",
        "Įsivaizduokite, kad sukūrėte balsavimo formą, kurioje žmogus galėjo rinktis 1 iš kelių galimų variantų (ar įrašyti savo) ir turite sąraše visus tuos balsavimo duomenis (pvz: balsavimui panaudotas klausimas `\"labiausiai patinkanti kalba:\"`, o atsakymai `['c++', 'python', 'python', 'javascript', 'python', 'c#', 'javascript']`). Atrinkite visus skirtingus atsakymų variantus į atskirą sąrašą (būtų `['c++', 'python', 'javascript', 'c#']`)."
      ]
    },
    {
      "cell_type": "code",
      "execution_count": null,
      "metadata": {
        "id": "eyXyK0gZgY6b"
      },
      "outputs": [],
      "source": [
        "# Kodą rašykite čia..."
      ]
    },
    {
      "cell_type": "markdown",
      "metadata": {
        "id": "-0ycrJm9gY6b"
      },
      "source": [
        "### Užduotis 2\n",
        "\n",
        "Savo nuožiūra atlikite dar bent vieną analogišką užduotį."
      ]
    },
    {
      "cell_type": "code",
      "execution_count": null,
      "metadata": {
        "id": "yFi6Pg6DgY6c"
      },
      "outputs": [],
      "source": [
        "# Kodą rašykite čia..."
      ]
    }
  ],
  "metadata": {
    "kernelspec": {
      "display_name": "Python 3",
      "language": "python",
      "name": "python3"
    },
    "language_info": {
      "codemirror_mode": {
        "name": "ipython",
        "version": 3
      },
      "file_extension": ".py",
      "mimetype": "text/x-python",
      "name": "python",
      "nbconvert_exporter": "python",
      "pygments_lexer": "ipython3",
      "version": "3.7.9 (tags/v3.7.9:13c94747c7, Aug 17 2020, 18:58:18) [MSC v.1900 64 bit (AMD64)]"
    },
    "orig_nbformat": 4,
    "vscode": {
      "interpreter": {
        "hash": "aa11ca274996316222ef16f35c5f6dbeb467b694c0b2154cdf34dcf9271d5fd0"
      }
    },
    "colab": {
      "provenance": []
    }
  },
  "nbformat": 4,
  "nbformat_minor": 0
}