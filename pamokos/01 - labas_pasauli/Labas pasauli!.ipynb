{
  "cells": [
    {
      "cell_type": "markdown",
      "metadata": {
        "id": "CZwLBvN6DCDj"
      },
      "source": [
        "[![Open In Colab](https://colab.research.google.com/assets/colab-badge.svg)](https://colab.research.google.com/github/blaztoma/pitono-pamokos/blob/main/pamokos/01%20-%20labas_pasauli/Labas%20pasauli!.ipynb)"
      ]
    },
    {
      "cell_type": "markdown",
      "metadata": {
        "id": "A7QmATltDCDm"
      },
      "source": [
        "# Labas pasauli!"
      ]
    },
    {
      "cell_type": "markdown",
      "metadata": {
        "id": "nBM9im5hDCDm"
      },
      "source": [
        "Pradėkime susipažinimą su aplinka. Šioje aplinka kiek skiriasi nuo tradicinių programavimo aplinkų. Joje galima rašyti tektus ir programos kodus toje pačioje vietoje. Perskaitę šį tekstą pamėginkite įvykdyti žemiau esančia programą."
      ]
    },
    {
      "cell_type": "code",
      "execution_count": null,
      "metadata": {
        "id": "tUOOMBmoDCDm",
        "outputId": "74dd8bd0-7916-4962-f42e-eca5cfd252fa"
      },
      "outputs": [
        {
          "name": "stdout",
          "output_type": "stream",
          "text": [
            "Labas!\n"
          ]
        }
      ],
      "source": [
        "print(\"Labas!\")"
      ]
    },
    {
      "cell_type": "markdown",
      "metadata": {
        "id": "AMIeR_LWDCDo"
      },
      "source": [
        "# Užduotis"
      ]
    },
    {
      "cell_type": "markdown",
      "metadata": {
        "id": "xizsRXemDCDo"
      },
      "source": [
        "Na kaip, pavyko!? Tikrai turėjo pavykti. Na o dabar patys, savo paskyroje atlikite šiuos veiksmus:\n",
        "* Sukurkite failą pavadinimu \"Labas pasauli!\"\n",
        "* Parašykite savo pirmąją programą, kuri parašytų \"Laabas pasauli!\"\n",
        "* Įvykdykite programą ir pažiūrėkite ar ji pateikia tai ko tikėjotės."
      ]
    }
  ],
  "metadata": {
    "language_info": {
      "name": "python"
    },
    "colab": {
      "provenance": []
    }
  },
  "nbformat": 4,
  "nbformat_minor": 0
}