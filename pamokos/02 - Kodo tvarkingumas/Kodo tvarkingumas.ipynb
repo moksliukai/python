{
  "cells": [
    {
      "cell_type": "markdown",
      "metadata": {
        "id": "c9tfxb0dDP7P"
      },
      "source": [
        "[![Open In Colab](https://colab.research.google.com/assets/colab-badge.svg)](https://colab.research.google.com/github/blaztoma/pitono-pamokos/blob/main/pamokos/02%20-%20Kodo%20tvarkingumas/Kodo%20tvarkingumas.ipynb)"
      ]
    },
    {
      "cell_type": "markdown",
      "metadata": {
        "id": "GvkS2m2ODP7S"
      },
      "source": [
        "# Atitraukimai nuo krašto"
      ]
    },
    {
      "cell_type": "markdown",
      "metadata": {
        "id": "mVwAaOvoDP7S"
      },
      "source": [
        "Programa yra skaidoma blokais (funkcijos, ciklai ir kt.). Norint parodyti bloko ribas, to bloko kodas yra atitraukiamas nuo krašto.\n",
        "Bloko eilutės yra atitraukiamos nuo krašto (arba prieš tai esančio bloko) su 4 tarpais arba 1 tab paspaudimu.\n",
        "\n",
        "> **Atkreipkite dėmesį**: skirtingai nuo daugelio programavimo kalbų, atitraukimas turi didelę reikšmę programos vykdymui.\n",
        "\n",
        "Atitraukimas atstoja begin ir end paskalio kalboje arba { } C kalbos simbolius. Žemiau matote pitono programos pavyzdį su tinkamu kodo atitraukimu. Kol kas nesiaiškinkite kaip programa veikia."
      ]
    },
    {
      "cell_type": "code",
      "execution_count": null,
      "metadata": {
        "id": "nN4A1zQ6DP7T",
        "outputId": "68d6b2c4-7db6-41be-96be-6cd160ea1178"
      },
      "outputs": [
        {
          "name": "stdout",
          "output_type": "stream",
          "text": [
            "pradzia!\n",
            "obuolys\n",
            "kriaušė\n",
            "pabaiga!\n"
          ]
        }
      ],
      "source": [
        "def atitraukimo_pavyzdys():\n",
        "    print(\"pradzia!\")\n",
        "    vaisiai = [\"obuolys\", \"kriaušė\", \"slyva\"]\n",
        "    for vaisius in vaisiai:\n",
        "        print(vaisius)\n",
        "        if vaisius == \"kriaušė\":\n",
        "            break\n",
        "    print(\"pabaiga!\")\n",
        "\n",
        "atitraukimo_pavyzdys()"
      ]
    },
    {
      "cell_type": "markdown",
      "metadata": {
        "id": "9arkZTn6DP7U"
      },
      "source": [
        "# Komentavimas"
      ]
    },
    {
      "cell_type": "markdown",
      "metadata": {
        "id": "ZRHIAChWDP7U"
      },
      "source": [
        "Kodas yra komentuojamas tais atvejais kai mes norime parašyti paaiškinimą apie tai kas vyksta kode arba kai norim kažkurią kodo dalį padaryti nebeaktyvią (nebevykdomą).\n",
        "\n",
        "> Komentarui naudojamas simbolis: #\n",
        "\n",
        "Toliau parodyta ta pati programa su funkcijos aprašymu bei dviem užkomentuotom kodo eilutėm, kurios išveda *pradžia* ir *pabaiga*"
      ]
    },
    {
      "cell_type": "code",
      "execution_count": null,
      "metadata": {
        "id": "xAdZ2EVlDP7V",
        "outputId": "1d46a4cf-6fc6-4527-c68b-414d91a71b37"
      },
      "outputs": [
        {
          "name": "stdout",
          "output_type": "stream",
          "text": [
            "obuolys\n",
            "kriaušė\n"
          ]
        }
      ],
      "source": [
        "# Ši funkcija parašyta tam, kad iliustruoti\n",
        "# tvarkingo kodo užrašymą.\n",
        "# Tam naudojama funkcija pavadinimu atitraukimo_pavyzdys\n",
        "def atitraukimo_pavyzdys():\n",
        "#     print(\"pradzia!\")\n",
        "    vaisiai = [\"obuolys\", \"kriaušė\", \"slyva\"]\n",
        "    for vaisius in vaisiai:\n",
        "        print(vaisius)\n",
        "        if vaisius == \"kriaušė\":\n",
        "            break\n",
        "#     print(\"pabaiga!\")\n",
        "\n",
        "atitraukimo_pavyzdys()"
      ]
    },
    {
      "cell_type": "markdown",
      "metadata": {
        "id": "mK1-tNOoDP7V"
      },
      "source": [
        "# Užduotis"
      ]
    },
    {
      "cell_type": "markdown",
      "metadata": {
        "id": "pbXdZRETDP7V"
      },
      "source": [
        "Žemiau pateikta programa, kuri neveikia, nes kviečiamos funkcijos, kurios nėra užrašytos. Atlikite šiuos veiksmus:\n",
        "* Nukopijuokite programą į savo aplinką\n",
        "* Užkomentuokite neveikiančias kodo dalis\n",
        "\n",
        "Atkreipkite dėmesį, kad aplinka pati raudonai pažymi neteisingas eilutes."
      ]
    },
    {
      "cell_type": "code",
      "execution_count": null,
      "metadata": {
        "id": "Fyp08Ck-DP7V",
        "outputId": "d1ab592d-70cf-4558-e202-990a8fe1aa78"
      },
      "outputs": [
        {
          "ename": "NameError",
          "evalue": "NameError: name 'kviečiu_nežinomą_funkciją' is not defined",
          "output_type": "error",
          "traceback": [
            "\u001b[0;31m---------------------------------------------------------------------------",
            "Traceback (most recent call last)",
            "    at line 1 in <module>",
            "NameError: name 'kviečiu_nežinomą_funkciją' is not defined"
          ]
        }
      ],
      "source": [
        "kviečiu_nežinomą_funkciją()\n",
        "\n",
        "def atitraukimo_pavyzdys():\n",
        "#     print(\"pradzia!\")\n",
        "    vaisiai = [\"obuolys\", \"kriaušė\", \"slyva\"]\n",
        "    for vaisius in vaisiai:\n",
        "        print(vaisius)\n",
        "        if vaisius == \"kriaušė\":\n",
        "            break\n",
        "#     print(\"pabaiga!\")\n",
        "\n",
        "kviečiu_kitą_funkciją()\n",
        "atitraukimo_pavyzdys()"
      ]
    }
  ],
  "metadata": {
    "kernelspec": {
      "display_name": "Python 3",
      "language": "python",
      "name": "python3"
    },
    "language_info": {
      "name": "python",
      "version": "3.7.9 (tags/v3.7.9:13c94747c7, Aug 17 2020, 18:58:18) [MSC v.1900 64 bit (AMD64)]"
    },
    "vscode": {
      "interpreter": {
        "hash": "aa11ca274996316222ef16f35c5f6dbeb467b694c0b2154cdf34dcf9271d5fd0"
      }
    },
    "colab": {
      "provenance": []
    }
  },
  "nbformat": 4,
  "nbformat_minor": 0
}