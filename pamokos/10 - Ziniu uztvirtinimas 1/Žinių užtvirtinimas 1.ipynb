{
  "cells": [
    {
      "cell_type": "markdown",
      "metadata": {
        "id": "B_XUOaORFEC2"
      },
      "source": [
        "[![Open In Colab](https://colab.research.google.com/assets/colab-badge.svg)](https://colab.research.google.com/github/blaztoma/pitono-pamokos/blob/main/pamokos/10%20-%20Ziniu%20uztvirtinimas%201/%C5%BDini%C5%B3%20u%C5%BEtvirtinimas%201.ipynb)"
      ]
    },
    {
      "cell_type": "markdown",
      "metadata": {
        "id": "r5RrMhSCFEC5"
      },
      "source": [
        "# Žinių užtvirtinimas (1)"
      ]
    },
    {
      "cell_type": "markdown",
      "metadata": {
        "id": "oEvOik1VFEC5"
      },
      "source": [
        "## Užduoties tikslas\n",
        "\n",
        "Suskaičiuoti kiek duonos kepalų kepykla sugebės iškepti per dieną, ar spės įgyvendinti visus dienos užsakymus ir suskaičiuoti kiek iš jų uždirbs pelno."
      ]
    },
    {
      "cell_type": "markdown",
      "metadata": {
        "id": "YiBrUB3XFEC5"
      },
      "source": [
        "## Duomenys\n",
        "\n",
        "Apibrėžti duomenys:\n",
        "\n",
        "- Darbo valandų per dieną - 8 val.\n",
        "\n",
        "Jūsų įvedami duomenys:\n",
        "\n",
        "- Kiek darbuotojas gali iškepti kepalų per valandą.\n",
        "- Kiek darbuotojų turi kepykla.\n",
        "- Vieno kepalo savikaina.\n",
        "- Vieno kepalo pardavimo kaina.\n",
        "- Kiek kepykla turi tą dieną iškepti kepalų (užsakymai)."
      ]
    },
    {
      "cell_type": "code",
      "execution_count": null,
      "metadata": {
        "id": "yy3Y3WlBFEC6"
      },
      "outputs": [],
      "source": [
        "# Susikurkite kintamuosius ir priskirkite informaciją jiems...\n"
      ]
    },
    {
      "cell_type": "markdown",
      "metadata": {
        "id": "DUsvPwmOFEC7"
      },
      "source": [
        "## Skaičiavimai"
      ]
    },
    {
      "cell_type": "markdown",
      "metadata": {
        "id": "WH9VO0qbFEC7"
      },
      "source": [
        "Suskaičiuoti kiek kepykla per vieną darbo dieną spės iškepti duonos kepalų."
      ]
    },
    {
      "cell_type": "code",
      "execution_count": null,
      "metadata": {
        "id": "L1z9A9q0FEC7"
      },
      "outputs": [],
      "source": [
        "# Rašykite kodą čia...\n"
      ]
    },
    {
      "cell_type": "markdown",
      "metadata": {
        "id": "Px0R-KA9FEC7"
      },
      "source": [
        "Apskaičiuoti visų kepalų savikainą, gautas pajamas pardavus ir iš to gauto pelno dalį."
      ]
    },
    {
      "cell_type": "code",
      "execution_count": null,
      "metadata": {
        "id": "BpGSJboWFEC8"
      },
      "outputs": [],
      "source": [
        "# Rašykite kodą čia...\n"
      ]
    },
    {
      "cell_type": "markdown",
      "metadata": {
        "id": "tDnlHRs8FEC8"
      },
      "source": [
        "Patikrinti ar kepykla spės iškepti visus tos dienos užsakymus. Jei ne, suskaičiuoti kiek kepalų nespės iškepti."
      ]
    },
    {
      "cell_type": "code",
      "execution_count": null,
      "metadata": {
        "id": "IwSfKjSgFEC8"
      },
      "outputs": [],
      "source": [
        "# Rašykite kodą čia...\n"
      ]
    },
    {
      "cell_type": "markdown",
      "metadata": {
        "id": "XHULCjLSFEC8"
      },
      "source": [
        "Papildomai įvertinkite tai, kad pajamas ir pelną galite gauti tik iš parduotų kepalų."
      ]
    },
    {
      "cell_type": "code",
      "execution_count": null,
      "metadata": {
        "id": "gagqYrN7FEC8"
      },
      "outputs": [],
      "source": [
        "# Rašykite kodą čia...\n"
      ]
    }
  ],
  "metadata": {
    "kernelspec": {
      "display_name": "Python 3",
      "language": "python",
      "name": "python3"
    },
    "language_info": {
      "codemirror_mode": {
        "name": "ipython",
        "version": 3
      },
      "file_extension": ".py",
      "mimetype": "text/x-python",
      "name": "python",
      "nbconvert_exporter": "python",
      "pygments_lexer": "ipython3",
      "version": "3.7.9 (tags/v3.7.9:13c94747c7, Aug 17 2020, 18:58:18) [MSC v.1900 64 bit (AMD64)]"
    },
    "orig_nbformat": 4,
    "vscode": {
      "interpreter": {
        "hash": "aa11ca274996316222ef16f35c5f6dbeb467b694c0b2154cdf34dcf9271d5fd0"
      }
    },
    "colab": {
      "provenance": []
    }
  },
  "nbformat": 4,
  "nbformat_minor": 0
}