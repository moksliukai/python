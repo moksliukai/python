{
  "nbformat": 4,
  "nbformat_minor": 0,
  "metadata": {
    "colab": {
      "provenance": [],
      "authorship_tag": "ABX9TyMPRbrCLCB0Cafe7SJeHyiG",
      "include_colab_link": true
    },
    "kernelspec": {
      "name": "python3",
      "display_name": "Python 3"
    },
    "language_info": {
      "name": "python"
    }
  },
  "cells": [
    {
      "cell_type": "markdown",
      "metadata": {
        "id": "view-in-github",
        "colab_type": "text"
      },
      "source": [
        "<a href=\"https://colab.research.google.com/github/moksliukai/python/blob/main/TarpinisPasiruosimas.ipynb\" target=\"_parent\"><img src=\"https://colab.research.google.com/assets/colab-badge.svg\" alt=\"Open In Colab\"/></a>"
      ]
    },
    {
      "cell_type": "markdown",
      "source": [
        "## **4_1-9**"
      ],
      "metadata": {
        "id": "vu9eqh37L3id"
      }
    },
    {
      "cell_type": "code",
      "execution_count": null,
      "metadata": {
        "id": "YkUxIJ3O63Gs"
      },
      "outputs": [],
      "source": []
    },
    {
      "cell_type": "markdown",
      "source": [
        "Marija turi savo internetinę drabužių parduotuvę. Ji analizuoja informaciją apie nuolatinius klientus. Tam ji parašė programą. Apie klientus ji turi tokius duomenis:\n",
        "•\tklientų skaičius n (sveikasis skaičius 1 < n < 500);\n",
        "•\tklientų kodus, kodas yra marijos suteiktas aštuonženklis skaičius, kurio pirmieji keturi skaitmenys reiškia metus, tolesni du – mėnesį, kai klientas tapo nuolatiniu marijos pirkėju ir gavo nuolaidą visoms prekėms, paskutinieji du – eilės numerį;\n",
        "•\tdėvimų drabužių dydį (lyginiai skaičiai nuo 32 iki 56);\n",
        "•\tklientui taikomą nuolaidą (realusis skaičius nuo 0.0 iki 1.0).\n",
        "\n",
        "Marija turi tekstinį failą „Duomenys.txt“ apie savo klientus, kuriame yra tokie duomenys:\n",
        "•\tpirmoje eilutėje – nuolatinių klientų skaičius n (sveikasis skaičius 1 < n < 500);\n",
        "•\tkitose n eilučių – duomenys apie klientus:\n",
        "kliento kodas (natūralusis aštuonženklis skaičius);\n",
        "dėvimų drabužių dydis (lyginis skaičius nuo 32 iki 56);\n",
        "klientui taikoma nuolaida (realusis skaičius nuo 0.0 iki 1.0).\n",
        "\n",
        "\n"
      ],
      "metadata": {
        "id": "KNBfgkO38JSr"
      }
    },
    {
      "cell_type": "markdown",
      "source": [
        "Marijos duomenų faile „Duomenys.txt“ įrašyta tokia informacija:\n",
        "3\n",
        "20230101 36 0.1\n",
        "20230102 48 0.2\n",
        "20230103 54 0.4\n",
        "\n",
        "Kas bus spausdinama įvykdžius šį programos fragmentą?"
      ],
      "metadata": {
        "id": "13coH9Ko8kXY"
      }
    },
    {
      "cell_type": "code",
      "source": [
        "with open(\"Duomenys.txt\")as f:\n",
        "  n = int(f.readline())\n",
        "  kodas = []\n",
        "  dydis = []\n",
        "  nuolaida = []\n",
        "  for i in range(n):\n",
        "    line = f.readline().strip().split()\n",
        "    kodas.append(int(line[0]))\n",
        "    dydis.append(int(line[1]))\n",
        "    nuolaida.append(float(line[2]))\n",
        "print(n)\n",
        "\n",
        "for i in range(n):\n",
        "  print(kodas[i], dydis[i], nuolaida[i]*100, \"%\")"
      ],
      "metadata": {
        "colab": {
          "base_uri": "https://localhost:8080/"
        },
        "id": "EfzTFY4x8bWc",
        "outputId": "1b589a88-4ad3-463e-d59e-e57d5a0dea80"
      },
      "execution_count": null,
      "outputs": [
        {
          "output_type": "stream",
          "name": "stdout",
          "text": [
            "3\n",
            "20230101 36 10.0 %\n",
            "20230102 48 20.0 %\n",
            "20230103 54 40.0 %\n"
          ]
        }
      ]
    },
    {
      "cell_type": "markdown",
      "source": [
        "Marijos klientų drabužių dydžiai įrašyti skaičių masyve dydis. Šio masyvo reikšmės yra [36, 48, 54, 52, 36, 42, 46, 38, 40, 36]. Taip pat žinmas marijos klientų skaičius n (sveikasis duomuo), kuris lygus 10.\n",
        "Kas bus spausdinama, įvykdžius šį programos fragmentą?"
      ],
      "metadata": {
        "id": "sGlC4F33AwCv"
      }
    },
    {
      "cell_type": "code",
      "source": [
        "dydis = [36, 48, 54, 52, 36, 42, 46, 38, 40, 36]\n",
        "kiekS = 0\n",
        "kiekM = 0\n",
        "kiekL = 0\n",
        "for i in range(len(dydis)):\n",
        "  if dydis[i] == 34 or dydis[i] == 36:\n",
        "    kiekS += 1\n",
        "\n",
        "  if dydis[i] == 38 or dydis[i] == 40:\n",
        "    kiekM += 1\n",
        "\n",
        "  if dydis[i] == 42 or dydis[i] == 44:\n",
        "    kiekL += 1\n",
        "\n",
        "\n",
        "print(kiekS, kiekM, kiekL)"
      ],
      "metadata": {
        "colab": {
          "base_uri": "https://localhost:8080/"
        },
        "id": "z6RZRA2uBaoA",
        "outputId": "0e939b87-d15d-4fd0-ed06-a0721adee116"
      },
      "execution_count": null,
      "outputs": [
        {
          "output_type": "stream",
          "name": "stdout",
          "text": [
            "3 2 1\n"
          ]
        }
      ]
    },
    {
      "cell_type": "markdown",
      "source": [
        "Klientų nuolaidų reikšmės yra įrašytos realiųjų skaičių masyve nuolaida. Šio masyvo reikšmės yra [0.1, 0.2, 0.4, 0.2, 0.0, 0.0, 0.1, 0.2, 0.1, 0.0]. Taip pat žinomas Marijos klientų skaičius n (sveikas), kuris lygus 10.\n",
        "Kuris programos fragmentas teisingai suskaičiuotų ir atspausdintų didžiausią nuolaidą?"
      ],
      "metadata": {
        "id": "X40DnwUkExYm"
      }
    },
    {
      "cell_type": "code",
      "source": [
        "nuolaidos = [0.1, 0.2, 0.4, 0.2, 0.0, 0.0, 0.1, 0.2, 0.1, 0.0]\n",
        "didNuolaida = 0\n",
        "\n",
        "for i in range(len(nuolaidos)):\n",
        "    if didNuolaida < nuolaidos[i]:\n",
        "        didNuolaida = nuolaidos[i]\n",
        "\n",
        "print(\"Didžiausia nuolaida:\", didNuolaida)\n",
        "\n"
      ],
      "metadata": {
        "colab": {
          "base_uri": "https://localhost:8080/"
        },
        "id": "f7KES7hdFaca",
        "outputId": "077b57c7-ba5e-44ec-b89c-2c335a67ae3f"
      },
      "execution_count": null,
      "outputs": [
        {
          "output_type": "stream",
          "name": "stdout",
          "text": [
            "Didžiausia nuolaida: 0.4\n"
          ]
        }
      ]
    },
    {
      "cell_type": "markdown",
      "source": [
        "Marijos klientams taikomos nuolaidos įrašytos realiųjų skaičių masyve  nuolaida. Šio masyvo reikšmės yra [0.1, 0.2, 0.4, 0.2, 0.0, 0.0, 0.1, 0.2, 0.1, 0.0]. Taip pat žinomas Marijos klientų skaičius n (sveikas), kuris lygus 10. Kas bus spausdinama, įvykdžius programos fragmentą, jei kintamojo didNuolaida reikšmė yra didžiausia nuolaida?"
      ],
      "metadata": {
        "id": "dsurn7gdH-Tj"
      }
    },
    {
      "cell_type": "code",
      "source": [
        "nuolaidos = [0.1, 0.2, 0.4, 0.2, 0.0, 0.0, 0.1, 0.2, 0.1, 0.0]\n",
        "didNuolaida = 0.4\n",
        "kiek = 0\n",
        "\n",
        "for i in range(len(nuolaidos)):\n",
        "  if didNuolaida == nuolaidos[i]:\n",
        "    kiek += 1\n",
        "\n",
        "print(kiek)"
      ],
      "metadata": {
        "colab": {
          "base_uri": "https://localhost:8080/"
        },
        "id": "fLtTxPFhKXFn",
        "outputId": "a7aff59f-c543-49b1-bc6a-39e68a578e87"
      },
      "execution_count": null,
      "outputs": [
        {
          "output_type": "stream",
          "name": "stdout",
          "text": [
            "1\n"
          ]
        }
      ]
    },
    {
      "cell_type": "markdown",
      "source": [
        "Marijos klientų kodai įrašyti sveikųjų skaičių masyve kodas. Šio masyvo reikšmės yra [20230101, 20230102, 20230103, 20230104, 20240105, 20240201, 20240202, 20240203, 20240204, 20240301]. Marijos klientų skaičius - 10. Kuris patikrinimas, ar klientų kodų pirmieji keturi skaitmenys yra lygūs skiačiui 2024, yra teisingas?"
      ],
      "metadata": {
        "id": "C9RVGpRfLC2X"
      }
    },
    {
      "cell_type": "code",
      "source": [
        "kodas = [20230101, 20230102, 20230103, 20230104, 20240105, 20240201, 20240202, 20240203, 20240204, 20240301]\n",
        "#patikrinimas = False\n",
        "\n",
        "for i in range(len(kodas)):\n",
        "    if kodas[i] // 10000 == 2024:\n",
        "        #patikrinimas = True\n",
        "        #break\n",
        "\n",
        "        print(\"Pirmieji keturi skaitmenys lygūs 2024\")\n"
      ],
      "metadata": {
        "colab": {
          "base_uri": "https://localhost:8080/"
        },
        "id": "9hLZxOqCMKoB",
        "outputId": "fff505b3-8033-4a4a-a335-09a1686c16a8"
      },
      "execution_count": null,
      "outputs": [
        {
          "output_type": "stream",
          "name": "stdout",
          "text": [
            "Pirmieji keturi skaitmenys lygūs 2024\n",
            "Pirmieji keturi skaitmenys lygūs 2024\n",
            "Pirmieji keturi skaitmenys lygūs 2024\n",
            "Pirmieji keturi skaitmenys lygūs 2024\n",
            "Pirmieji keturi skaitmenys lygūs 2024\n",
            "Pirmieji keturi skaitmenys lygūs 2024\n"
          ]
        }
      ]
    },
    {
      "cell_type": "code",
      "source": [
        "kodas = [20230101, 20230102, 20230103, 20230104, 20240105, 20240201, 20240202, 20240203, 20240204, 20240301]\n",
        "\n",
        "\n",
        "for i in range(len(kodas)):\n",
        "    if kodas[i] % 10000 == 2024:\n",
        "        print(\"Pirmieji keturi skaitmenys lygūs 2024\")"
      ],
      "metadata": {
        "id": "1S60i-aVN-_i"
      },
      "execution_count": null,
      "outputs": []
    },
    {
      "cell_type": "markdown",
      "source": [],
      "metadata": {
        "id": "YIw-M_ivOQJ1"
      }
    },
    {
      "cell_type": "code",
      "source": [
        "kodas = [20230101, 20230102, 20230103, 20230104, 20240105, 20240201, 20240202, 20240203, 20240204, 20240301]\n",
        "\n",
        "for i in range(len(kodas)):\n",
        "    if kodas[i] // 1000 % 10 == 2024:\n",
        "\n",
        "        print(\"Pirmieji keturi skaitmenys lygūs 2024\")"
      ],
      "metadata": {
        "id": "Fl3qLmVWORfi"
      },
      "execution_count": null,
      "outputs": []
    },
    {
      "cell_type": "markdown",
      "source": [],
      "metadata": {
        "id": "te4bfMCOObMz"
      }
    },
    {
      "cell_type": "code",
      "source": [
        "kodas = [20230101, 20230102, 20230103, 20230104, 20240105, 20240201, 20240202, 20240203, 20240204, 20240301]\n",
        "\n",
        "for i in range(len(kodas)):\n",
        "    if kodas[0] == 2 and kodas[1] == 0 and kodas[2] == 2 and kodas[3] == 4:\n",
        "\n",
        "        print(\"Pirmieji keturi skaitmenys lygūs 2024\")"
      ],
      "metadata": {
        "id": "RWF8O9cfOdSK"
      },
      "execution_count": null,
      "outputs": []
    },
    {
      "cell_type": "markdown",
      "source": [
        "Marijos kientų kodai įrašyti sveikųjų skaičių masyve kodas. Šio masyvo reikšmės yra [20230101, 22230102, 20231303, 20230504, 20220401]. Taip pat žinomas Marijos klientų skaičius - 5. Kas bus išspausdinta, įvykdžius šį programos fragmentą?"
      ],
      "metadata": {
        "id": "9--8PtKWPEEu"
      }
    },
    {
      "cell_type": "code",
      "source": [
        "kodas =  [20230101, 22230102, 20231303, 20230504, 20220401]\n",
        "\n",
        "for i in range(len(kodas)):\n",
        "  print(kodas[i], end = \"  \")\n",
        "  if kodas[i] // 10000 >= 2020 and kodas[i] // 100 % 100 < 13:\n",
        "    print(\"teisingas\")\n",
        "  else:\n",
        "    print(\"neteisingas\")"
      ],
      "metadata": {
        "colab": {
          "base_uri": "https://localhost:8080/"
        },
        "id": "GCc15vLfPphd",
        "outputId": "7f45dbb1-ba17-4163-816c-37685e96fb20"
      },
      "execution_count": null,
      "outputs": [
        {
          "output_type": "stream",
          "name": "stdout",
          "text": [
            "20230101  teisingas\n",
            "22230102  teisingas\n",
            "20231303  neteisingas\n",
            "20230504  teisingas\n",
            "20220401  teisingas\n"
          ]
        }
      ]
    },
    {
      "cell_type": "markdown",
      "source": [
        "Žinomas Marijos klientų skaičius n, kuris lygus 5. jiems taikomos nuolaidos įrašytos realiųjų skaičių masyve nulaida, kurio reikšmės yra [0.1, 0.2, 0.4, 0.2, 0.2]. Kuris programos fragmentass teisingai apskaičiuotų taikomos nuolaidos vidurkį?"
      ],
      "metadata": {
        "id": "3H1rlKpWiOAL"
      }
    },
    {
      "cell_type": "code",
      "source": [
        "nuolaidai =  [0.1, 0.2, 0.4, 0.2, 0.2]\n",
        "\n",
        "suma = 0\n",
        "vid = 0\n",
        "\n",
        "for i in range(len(nuolaidai)):\n",
        "  suma = suma + nuolaidai[i]\n",
        "vid = suma / len(nuolaidai)\n",
        "print(vid)\n"
      ],
      "metadata": {
        "colab": {
          "base_uri": "https://localhost:8080/"
        },
        "id": "helTgHN3irbZ",
        "outputId": "c0dee74d-7b3f-427b-a158-421d500ab376"
      },
      "execution_count": null,
      "outputs": [
        {
          "output_type": "stream",
          "name": "stdout",
          "text": [
            "0.22000000000000003\n"
          ]
        }
      ]
    },
    {
      "cell_type": "markdown",
      "source": [
        "Marijos klientų kodai įrašyti sveikųjų skaičių masyve kodas. Šio masyvo reikšmės yra [20230101, 20230102, 20230103, 20230124, 20240105, 20240201, 20240202, 20240203, 20240214, 20240301]. Taip pat žinomas Marijos klientų skaičius n, kuris lygus 10. Ką tikrina šis programos fragmentas?\n"
      ],
      "metadata": {
        "id": "lcNXNhI9kIl3"
      }
    },
    {
      "cell_type": "code",
      "source": [
        "kodai = [20230101, 20230102, 20230103, 20230124, 20240105, 20240201, 20240202, 20240203, 20240214, 20240301]\n",
        "\n",
        "for i in range(len(kodai)):\n",
        "#print(kodas[i], end = \"  \")\n",
        "    if kodas[i] // 10000 >= 2020 and kodas[i] // 100 % 100 < 13:\n",
        "        print(\"teisingas\")\n",
        "    else:\n",
        "        print(\"neteisingas\")\n"
      ],
      "metadata": {
        "colab": {
          "base_uri": "https://localhost:8080/",
          "height": 297
        },
        "id": "3eXPBT8WkxlO",
        "outputId": "5d866b95-32fe-4a7b-dbdd-7c5773b64440"
      },
      "execution_count": null,
      "outputs": [
        {
          "output_type": "stream",
          "name": "stdout",
          "text": [
            "teisingas\n",
            "teisingas\n",
            "neteisingas\n",
            "teisingas\n",
            "teisingas\n"
          ]
        },
        {
          "output_type": "error",
          "ename": "IndexError",
          "evalue": "list index out of range",
          "traceback": [
            "\u001b[0;31m---------------------------------------------------------------------------\u001b[0m",
            "\u001b[0;31mIndexError\u001b[0m                                Traceback (most recent call last)",
            "\u001b[0;32m<ipython-input-37-323f2d7df7df>\u001b[0m in \u001b[0;36m<cell line: 3>\u001b[0;34m()\u001b[0m\n\u001b[1;32m      3\u001b[0m \u001b[0;32mfor\u001b[0m \u001b[0mi\u001b[0m \u001b[0;32min\u001b[0m \u001b[0mrange\u001b[0m\u001b[0;34m(\u001b[0m\u001b[0mlen\u001b[0m\u001b[0;34m(\u001b[0m\u001b[0mkodai\u001b[0m\u001b[0;34m)\u001b[0m\u001b[0;34m)\u001b[0m\u001b[0;34m:\u001b[0m\u001b[0;34m\u001b[0m\u001b[0;34m\u001b[0m\u001b[0m\n\u001b[1;32m      4\u001b[0m \u001b[0;31m#print(kodas[i], end = \"  \")\u001b[0m\u001b[0;34m\u001b[0m\u001b[0;34m\u001b[0m\u001b[0m\n\u001b[0;32m----> 5\u001b[0;31m     \u001b[0;32mif\u001b[0m \u001b[0mkodas\u001b[0m\u001b[0;34m[\u001b[0m\u001b[0mi\u001b[0m\u001b[0;34m]\u001b[0m \u001b[0;34m//\u001b[0m \u001b[0;36m10000\u001b[0m \u001b[0;34m>=\u001b[0m \u001b[0;36m2020\u001b[0m \u001b[0;32mand\u001b[0m \u001b[0mkodas\u001b[0m\u001b[0;34m[\u001b[0m\u001b[0mi\u001b[0m\u001b[0;34m]\u001b[0m \u001b[0;34m//\u001b[0m \u001b[0;36m100\u001b[0m \u001b[0;34m%\u001b[0m \u001b[0;36m100\u001b[0m \u001b[0;34m<\u001b[0m \u001b[0;36m13\u001b[0m\u001b[0;34m:\u001b[0m\u001b[0;34m\u001b[0m\u001b[0;34m\u001b[0m\u001b[0m\n\u001b[0m\u001b[1;32m      6\u001b[0m         \u001b[0mprint\u001b[0m\u001b[0;34m(\u001b[0m\u001b[0;34m\"teisingas\"\u001b[0m\u001b[0;34m)\u001b[0m\u001b[0;34m\u001b[0m\u001b[0;34m\u001b[0m\u001b[0m\n\u001b[1;32m      7\u001b[0m     \u001b[0;32melse\u001b[0m\u001b[0;34m:\u001b[0m\u001b[0;34m\u001b[0m\u001b[0;34m\u001b[0m\u001b[0m\n",
            "\u001b[0;31mIndexError\u001b[0m: list index out of range"
          ]
        }
      ]
    }
  ]
}