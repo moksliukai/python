{
  "cells": [
    {
      "cell_type": "markdown",
      "metadata": {
        "id": "view-in-github",
        "colab_type": "text"
      },
      "source": [
        "<a href=\"https://colab.research.google.com/github/moksliukai/python/blob/main/%E2%80%9Erange_ipynb%E2%80%9C_kopija.ipynb\" target=\"_parent\"><img src=\"https://colab.research.google.com/assets/colab-badge.svg\" alt=\"Open In Colab\"/></a>"
      ]
    },
    {
      "cell_type": "markdown",
      "metadata": {
        "id": "uA9TM3NAkr9o"
      },
      "source": [
        "[![Open In Colab](https://colab.research.google.com/assets/colab-badge.svg)](https://colab.research.google.com/github/blaztoma/pitono-pamokos/blob/main/pamokos/11%20-%20range/range.ipynb)"
      ]
    },
    {
      "cell_type": "markdown",
      "metadata": {
        "id": "uvFu2hJakr9p"
      },
      "source": [
        "# `range()` funkcija"
      ]
    },
    {
      "cell_type": "markdown",
      "metadata": {
        "id": "6VQVxm2Ikr9p"
      },
      "source": [
        "Naudosime `range()` funkciją norėdami sugeneruoti tam tikrą skaičių seką.\n",
        "\n",
        "Dažnai `range()` funkcija naudojama su `for` ciklu."
      ]
    },
    {
      "cell_type": "markdown",
      "metadata": {
        "id": "kX90VN_kkr9p"
      },
      "source": [
        "## Sintaksė"
      ]
    },
    {
      "cell_type": "markdown",
      "metadata": {
        "id": "NtZ9M_tSkr9q"
      },
      "source": [
        "### 1-as variantas\n",
        "\n",
        "```\n",
        "range(pabaiga)\n",
        "```\n",
        "\n",
        "- nuo 0 (patenka)\n",
        "- iki `pabaiga` (nepatenka)"
      ]
    },
    {
      "cell_type": "markdown",
      "metadata": {
        "id": "_8LYLopqkr9q"
      },
      "source": [
        "### 2-as variantas\n",
        "\n",
        "```\n",
        "range(pradžia, pabaiga)\n",
        "```\n",
        "\n",
        "- nuo `pradžia` (patenka)\n",
        "- iki `pabaiga` (nepatenka)"
      ]
    },
    {
      "cell_type": "markdown",
      "metadata": {
        "id": "novQFAaXkr9q"
      },
      "source": [
        "### 3-as variantas\n",
        "\n",
        "```\n",
        "range(pradžia, pabaiga, žingsnis)\n",
        "```\n",
        "\n",
        "- nuo `pradžia` (patenka)\n",
        "- iki `pabaiga` (nepatenka)\n",
        "- darant nurodytą žingsnį `žingsnis` (naudojant teigiamą reikšmę - kis didėjimo tvarka, naudojant neigiamą reikšmę - kis mažėjimo tvarka)"
      ]
    },
    {
      "cell_type": "markdown",
      "metadata": {
        "id": "nnY7SkuMkr9q"
      },
      "source": [
        "### Keletas sintaksės pavyzdžių"
      ]
    },
    {
      "cell_type": "code",
      "execution_count": null,
      "metadata": {
        "id": "A_9I9-Rlkr9r"
      },
      "outputs": [],
      "source": [
        "range(7) # nuo 0 iki 7 (skaičiai 0, 1, 2, 3, 4, 5, 6)\n",
        "range(2, 8) # nuo 2 iki 8 (skaičiai 2, 3, 4, 5, 6, 7)\n",
        "range(1, 6, 2) # nelyginiai skaičiai nuo 1 iki 6 (1, 3, 5)\n",
        "range(7, 0, -1) # nuo 7 iki 1 (skaičiai 7, 6, 5, 4, 3, 2, 1)"
      ]
    },
    {
      "cell_type": "markdown",
      "metadata": {
        "id": "WMZIIZdHkr9r"
      },
      "source": [
        "## Pavyzdžiai"
      ]
    },
    {
      "cell_type": "markdown",
      "metadata": {
        "id": "LqjIOtorkr9r"
      },
      "source": [
        "`range()` funkcija unikali tuo, kad ji sukuria `range` objektą. Šis objektas nėra skaičių sąrašas."
      ]
    },
    {
      "cell_type": "code",
      "execution_count": null,
      "metadata": {
        "id": "_Otb-GOdkr9s"
      },
      "outputs": [],
      "source": [
        "print( range(7) )"
      ]
    },
    {
      "cell_type": "markdown",
      "metadata": {
        "id": "1fes5HZdkr9s"
      },
      "source": [
        "Norėdami iš `range` objekto gauti skaičių sąrašą, turime panaudoti funkciją `list()`."
      ]
    },
    {
      "cell_type": "code",
      "execution_count": null,
      "metadata": {
        "id": "ApaOMdiPkr9s"
      },
      "outputs": [],
      "source": [
        "skaiciai = list( range(6) )\n",
        "print(skaiciai)"
      ]
    },
    {
      "cell_type": "markdown",
      "metadata": {
        "id": "8qz3kFc1kr9s"
      },
      "source": [
        "Turbūt jau pastebėjote, kad `range()` neįtraukia paskutinio nurodyto skaičiaus. Kodėl gi taip yra?"
      ]
    },
    {
      "cell_type": "code",
      "execution_count": null,
      "metadata": {
        "id": "wQZpkPZzkr9s"
      },
      "outputs": [],
      "source": [
        "print( list( range(10) ) )"
      ]
    },
    {
      "cell_type": "markdown",
      "metadata": {
        "id": "r_Hgrf4Wkr9s"
      },
      "source": [
        "Naudojant `range` galime nurodyti pradžią."
      ]
    },
    {
      "cell_type": "code",
      "execution_count": null,
      "metadata": {
        "id": "c8QZ5ld9kr9s"
      },
      "outputs": [],
      "source": [
        "skaiciai = list( range(2, 7) )\n",
        "print(skaiciai)"
      ]
    },
    {
      "cell_type": "markdown",
      "metadata": {
        "id": "aCHmXSbbkr9s"
      },
      "source": [
        "Dar vienas pavyzdys."
      ]
    },
    {
      "cell_type": "code",
      "execution_count": null,
      "metadata": {
        "id": "s8YJiPJDkr9t"
      },
      "outputs": [],
      "source": [
        "skaiciukai = list( range(10, 15) )\n",
        "print(skaiciukai)"
      ]
    },
    {
      "cell_type": "markdown",
      "metadata": {
        "id": "6D6uijP_kr9t"
      },
      "source": [
        "Šis pavyzdys įtraukia `žingsnį`, kurio reikšmė - 2. Šiuo atveju spausdinsime nelyginius skaičius."
      ]
    },
    {
      "cell_type": "code",
      "execution_count": null,
      "metadata": {
        "id": "7FfB_LvAkr9t"
      },
      "outputs": [],
      "source": [
        "kas_antra = list( range(5, 15, 2) )\n",
        "print(kas_antra)"
      ]
    },
    {
      "cell_type": "markdown",
      "metadata": {
        "id": "1sbaE_Xukr9t"
      },
      "source": [
        "Dar vienas pavyzdys su `žingsniu`, kurio reikšmė - 5. Atkreipkite dėmesį, kad paskutinės reikšmės (`50`) neįtraukia."
      ]
    },
    {
      "cell_type": "code",
      "execution_count": null,
      "metadata": {
        "id": "UQZ4Zmztkr9t"
      },
      "outputs": [],
      "source": [
        "skaiciai = list( range(5, 50, 5) )\n",
        "print(skaiciai)"
      ]
    },
    {
      "cell_type": "markdown",
      "metadata": {
        "id": "430rGFYzkr9t"
      },
      "source": [
        "Dabar, kai žinome `range()` funkcijos naudojimo niunsus, pasipraktikuokime. Sąrašo [1, 50] sukūrimas."
      ]
    },
    {
      "cell_type": "code",
      "execution_count": null,
      "metadata": {
        "id": "E-FqhIMAkr9t"
      },
      "outputs": [],
      "source": [
        "skaiciai = list( range(1, 51) )\n",
        "print(skaiciai)"
      ]
    },
    {
      "cell_type": "markdown",
      "metadata": {
        "id": "gNkNdrQRkr9t"
      },
      "source": [
        "Na o čia - nelyginių skaičių sąrašo [1, 29] sukūrimas."
      ]
    },
    {
      "cell_type": "code",
      "execution_count": null,
      "metadata": {
        "id": "ZQhVFhSckr9t"
      },
      "outputs": [],
      "source": [
        "nelyginiai = list( range(1, 30, 2) )\n",
        "print(nelyginiai)"
      ]
    },
    {
      "cell_type": "markdown",
      "metadata": {
        "id": "oVxlZISIkr9u"
      },
      "source": [
        "Šitame pavyzdyje paimsime kas šešą skaičių."
      ]
    },
    {
      "cell_type": "code",
      "execution_count": null,
      "metadata": {
        "id": "WNSJ-JXKkr9u"
      },
      "outputs": [],
      "source": [
        "skaiciai = list( range(5, 87, 6) )\n",
        "print(skaiciai)"
      ]
    },
    {
      "cell_type": "markdown",
      "metadata": {
        "id": "GQBBBxLGkr9u"
      },
      "source": [
        "Ko dar nebandėme, tai sudaryti skaičių sąrašą mažėjimo tvarka. Tam reikia nurodyti neigiamą `žingsnio` reikšmę. Atkreipkite dėmesį, kad paskutinė reikšmė neįtraukiama ir šiuo atveju."
      ]
    },
    {
      "cell_type": "code",
      "execution_count": null,
      "metadata": {
        "id": "GpmU_u01kr9u"
      },
      "outputs": [],
      "source": [
        "skaiciai = list( range(10, 0, -1) )\n",
        "print(skaiciai)"
      ]
    },
    {
      "cell_type": "markdown",
      "metadata": {
        "id": "BJT1A2vwkr9u"
      },
      "source": [
        "Dar vienas pavyzdys, kai `žingsnis` mažėja penkiais vienetais."
      ]
    },
    {
      "cell_type": "code",
      "execution_count": null,
      "metadata": {
        "id": "W4hiRpohkr9u"
      },
      "outputs": [],
      "source": [
        "skaiciai = list( range(50, 0, -5) )\n",
        "print(skaiciai)"
      ]
    },
    {
      "cell_type": "markdown",
      "metadata": {
        "id": "eEwRBwC9kr9u"
      },
      "source": [
        "## Užduotys"
      ]
    },
    {
      "cell_type": "markdown",
      "metadata": {
        "id": "NRonoQzukr9u"
      },
      "source": [
        "Sugeneruokite ir išveskite tokias sekas."
      ]
    },
    {
      "cell_type": "markdown",
      "metadata": {
        "id": "nKvy8Dr3kr9u"
      },
      "source": [
        "### Užduotis 1\n",
        "\n",
        "`[0, 1, 2, 3, 4, 5, 6]`"
      ]
    },
    {
      "cell_type": "code",
      "execution_count": null,
      "metadata": {
        "id": "LctRmbGakr9u"
      },
      "outputs": [],
      "source": [
        "# Kodą rašykite čia..."
      ]
    },
    {
      "cell_type": "markdown",
      "metadata": {
        "id": "_48MPSs7kr9u"
      },
      "source": [
        "### Užduotis 2\n",
        "\n",
        "`[1, 2, 3, 4, 5, 6, 7, 8, 9]`"
      ]
    },
    {
      "cell_type": "code",
      "execution_count": null,
      "metadata": {
        "id": "MvXej13mkr9y"
      },
      "outputs": [],
      "source": [
        "# Kodą rašykite čia..."
      ]
    },
    {
      "cell_type": "markdown",
      "metadata": {
        "id": "_RQegdrWkr9y"
      },
      "source": [
        "### Užduotis 3\n",
        "\n",
        "`[2, 3, 4, 5, 6, 7, 8, 9, 10, 11, 12, 13, 14, 15]`"
      ]
    },
    {
      "cell_type": "code",
      "execution_count": null,
      "metadata": {
        "id": "VlAss6nekr9y"
      },
      "outputs": [],
      "source": [
        "# Kodą rašykite čia..."
      ]
    },
    {
      "cell_type": "markdown",
      "metadata": {
        "id": "LIjNpgF_kr9y"
      },
      "source": [
        "### Užduotis 4\n",
        "\n",
        "`[20, 21, 22, 23, 24, 25, 26, 27, 28, 29, 30]`"
      ]
    },
    {
      "cell_type": "code",
      "execution_count": null,
      "metadata": {
        "id": "eBc74KVwkr9y"
      },
      "outputs": [],
      "source": [
        "# Kodą rašykite čia..."
      ]
    },
    {
      "cell_type": "markdown",
      "metadata": {
        "id": "R6VAtuQEkr9y"
      },
      "source": [
        "### Užduotis 5\n",
        "\n",
        "`[20, 22, 24, 26, 28, 30, 32, 34, 36, 38, 40]`"
      ]
    },
    {
      "cell_type": "code",
      "execution_count": null,
      "metadata": {
        "id": "wUW6Wl0gkr9y"
      },
      "outputs": [],
      "source": [
        "# Kodą rašykite čia..."
      ]
    },
    {
      "cell_type": "markdown",
      "metadata": {
        "id": "RoJCVwzlkr9z"
      },
      "source": [
        "### Užduotis 6\n",
        "\n",
        "`[1, 3, 5, 7, 9]`"
      ]
    },
    {
      "cell_type": "code",
      "execution_count": null,
      "metadata": {
        "id": "xoaWOC8bkr9z"
      },
      "outputs": [],
      "source": [
        "# Kodą rašykite čia..."
      ]
    },
    {
      "cell_type": "markdown",
      "metadata": {
        "id": "Cy3FGCKJkr9z"
      },
      "source": [
        "### Užduotis 7\n",
        "\n",
        "`[30, 33, 36, 39, 42, 45, 48]`"
      ]
    },
    {
      "cell_type": "code",
      "execution_count": null,
      "metadata": {
        "id": "3C3ciESZkr9z"
      },
      "outputs": [],
      "source": [
        "# Kodą rašykite čia..."
      ]
    },
    {
      "cell_type": "markdown",
      "metadata": {
        "id": "k8DJQqVMkr9z"
      },
      "source": [
        "### Užduotis 8\n",
        "\n",
        "`[50, 55, 60, 65, 70, 75, 80, 85, 90, 95, 100]`"
      ]
    },
    {
      "cell_type": "code",
      "execution_count": null,
      "metadata": {
        "id": "OnJtKxV4kr9z"
      },
      "outputs": [],
      "source": [
        "# Kodą rašykite čia..."
      ]
    },
    {
      "cell_type": "markdown",
      "metadata": {
        "id": "jdV3gN0skr9z"
      },
      "source": [
        "### Užduotis 9\n",
        "\n",
        "`[1, 8, 15, 22, 29, 36, 43, 50, 57, 64, 71, 78, 85, 92, 99]`"
      ]
    },
    {
      "cell_type": "code",
      "execution_count": null,
      "metadata": {
        "id": "7vGyjoDfkr9z"
      },
      "outputs": [],
      "source": [
        "# Kodą rašykite čia..."
      ]
    },
    {
      "cell_type": "markdown",
      "metadata": {
        "id": "fja_YDk4kr9z"
      },
      "source": [
        "### Užduotis 10\n",
        "\n",
        "`[10, 9, 8, 7, 6, 5, 4, 3, 2, 1]`"
      ]
    },
    {
      "cell_type": "code",
      "execution_count": null,
      "metadata": {
        "id": "MSWMAnc9kr90"
      },
      "outputs": [],
      "source": [
        "# Kodą rašykite čia..."
      ]
    },
    {
      "cell_type": "markdown",
      "metadata": {
        "id": "kN6_fSASkr90"
      },
      "source": [
        "### Užduotis 11\n",
        "\n",
        "`[100, 90, 80, 70, 60, 50, 40, 30, 20, 10]`"
      ]
    },
    {
      "cell_type": "code",
      "execution_count": null,
      "metadata": {
        "id": "osYyh52ckr90"
      },
      "outputs": [],
      "source": [
        "# Kodą rašykite čia..."
      ]
    }
  ],
  "metadata": {
    "kernelspec": {
      "display_name": "Python 3",
      "language": "python",
      "name": "python3"
    },
    "language_info": {
      "codemirror_mode": {
        "name": "ipython",
        "version": 3
      },
      "file_extension": ".py",
      "mimetype": "text/x-python",
      "name": "python",
      "nbconvert_exporter": "python",
      "pygments_lexer": "ipython3",
      "version": "3.10.10"
    },
    "orig_nbformat": 4,
    "vscode": {
      "interpreter": {
        "hash": "aa11ca274996316222ef16f35c5f6dbeb467b694c0b2154cdf34dcf9271d5fd0"
      }
    },
    "colab": {
      "provenance": [],
      "include_colab_link": true
    }
  },
  "nbformat": 4,
  "nbformat_minor": 0
}